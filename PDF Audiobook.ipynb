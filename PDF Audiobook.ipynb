{
 "cells": [
  {
   "cell_type": "code",
   "execution_count": 2,
   "metadata": {},
   "outputs": [],
   "source": [
    "# pip install pyttsx3\n",
    "# pip install PyPDF2\n",
    "\n",
    "import pyttsx3 as pyt\n",
    "import PyPDF2\n",
    "\n"
   ]
  },
  {
   "cell_type": "code",
   "execution_count": 3,
   "metadata": {},
   "outputs": [
    {
     "name": "stdout",
     "output_type": "stream",
     "text": [
      "Rate of speek 200\n"
     ]
    }
   ],
   "source": [
    "# init the engine to use as speaking \n",
    "engine = pyt.init()\n",
    "rate = engine.getProperty('rate')\n",
    "print(\"Rate of speek {}\".format(rate))\n",
    "engine.setProperty('rate',150)\n",
    "# open PDF \n",
    "book = open('C:/Users/Taka/Desktop/WaterMelon.pdf','rb')\n",
    "# read pdfFile and extract text \n",
    "pdfreader = PyPDF2.PdfFileReader(book)\n"
   ]
  },
  {
   "cell_type": "code",
   "execution_count": 4,
   "metadata": {},
   "outputs": [
    {
     "name": "stdout",
     "output_type": "stream",
     "text": [
      "8\n",
      "pages\n"
     ]
    }
   ],
   "source": [
    "# get total pages\n",
    "pages = pdfreader.numPages\n",
    "print(pages)\n",
    "# \n",
    "engine.say(\"Total pages = \"+str(pages))\n",
    "engine.runAndWait()\n",
    "print(\"pages\")\n"
   ]
  },
  {
   "cell_type": "code",
   "execution_count": 5,
   "metadata": {},
   "outputs": [],
   "source": [
    "# read from page 1 getPage(0)\n",
    "pageRead = pdfreader.getPage(0)\n",
    "# extract text\n",
    "txt = pageRead.extractText()\n",
    "engine.say(txt)\n",
    "engine.runAndWait()"
   ]
  },
  {
   "cell_type": "code",
   "execution_count": null,
   "metadata": {},
   "outputs": [],
   "source": []
  }
 ],
 "metadata": {
  "kernelspec": {
   "display_name": "Python 3",
   "language": "python",
   "name": "python3"
  },
  "language_info": {
   "codemirror_mode": {
    "name": "ipython",
    "version": 3
   },
   "file_extension": ".py",
   "mimetype": "text/x-python",
   "name": "python",
   "nbconvert_exporter": "python",
   "pygments_lexer": "ipython3",
   "version": "3.8.3"
  }
 },
 "nbformat": 4,
 "nbformat_minor": 4
}
